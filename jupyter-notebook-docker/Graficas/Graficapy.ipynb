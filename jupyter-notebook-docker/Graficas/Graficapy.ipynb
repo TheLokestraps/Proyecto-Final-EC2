{
  "nbformat": 4,
  "nbformat_minor": 0,
  "metadata": {
    "colab": {
      "name": "Graficapy.ipynb",
      "provenance": [],
      "collapsed_sections": []
    },
    "kernelspec": {
      "name": "python3",
      "display_name": "Python 3"
    }
  },
  "cells": [
    {
      "cell_type": "code",
      "metadata": {
        "id": "HjcE7Q4A0-Io",
        "colab": {
          "base_uri": "https://localhost:8080/",
          "height": 363
        },
        "outputId": "eca576e5-8954-4cee-f250-7b3fcb5d7fee"
      },
      "source": [
        "import mysql.connector as mysql\n",
        "import matplotlib.pyplot as plt\n",
        "\n",
        "if __name__ == \"__main__\":\n",
        "    Conexion = mysql.connect(host='db', user='user', passwd='password',db='universidad')\n",
        "    sql_select_Query1 = \"select * from persona\"\n",
        "    sql_select_Query2 = \"select * from departamento\"\n",
        "    cursor = Conexion.cursor(buffered=True)\n",
        "    cursor.execute(sql_select_Query1)\n",
        "    \n",
        "    plt.subplot(3,1,1)\n",
        "# ////////////////////////////////////////////////////////////////////////////////////////////////////////////////////////////////////////    \n",
        "    records = cursor.fetchall()\n",
        "    Persona = int(cursor.rowcount)\n",
        "\n",
        "    cursor.execute(sql_select_Query2)\n",
        "    Departamento = int(cursor.rowcount)\n",
        "\n",
        "    Datos = [Persona,Departamento]\n",
        "\n",
        "    Nombres = ['Persona','Departamento'] \n",
        "\n",
        "    plot1 = plt.bar(Nombres,Datos)\n",
        "    plt.title('Proyecto Final de Estructuras del Computador 2 \\n Presentado por Ivan Perez, Diego Palacios y Jairo Gonzalez')\n",
        "    plt.grid(True)\n",
        "\n",
        "# ////////////////////////////////////////////////////////////////////////////////////////////////////////////////////////////////////////    \n",
        "    plt.subplot(3,1,2)\n",
        "    sql_select_Query1 = \"select * from curso_escolar\"\n",
        "    sql_select_Query2 = \"select * from asignatura\"\n",
        "    \n",
        "    cursor.execute(sql_select_Query1)\n",
        "    curso_escolar = int(cursor.rowcount)\n",
        "    \n",
        "    cursor.execute(sql_select_Query2)\n",
        "    Asignatura = int(cursor.rowcount)\n",
        "    \n",
        "    Datos = [curso_escolar,Asignatura]\n",
        "    Nombres = ['curso_escolar','Asignatura'] \n",
        "    plot2 = plt.bar(Nombres,Datos)\n",
        "\n",
        "    plt.ylabel('Cantidad de datos')\n",
        "    plt.grid(True)\n",
        "# ////////////////////////////////////////////////////////////////////////////////////////////////////////////////////////////////////////    \n",
        "    plt.subplot(3,1,3)\n",
        "    sql_select_Query1 = \"select * from profesor\"\n",
        "    sql_select_Query2 = \"select * from persona\"\n",
        "    \n",
        "    cursor.execute(sql_select_Query1)\n",
        "    Profesor = int(cursor.rowcount)\n",
        "    \n",
        "    cursor.execute(sql_select_Query2)\n",
        "    Persona = int(cursor.rowcount)\n",
        "    \n",
        "    Datos = [Profesor,Persona]\n",
        "    Nombres = ['curso_escolar','Persona'] \n",
        "    plot2 = plt.bar(Nombres,Datos)\n",
        "\n",
        "    plt.xlabel('Nombre de las tablas de la Base de datos')\n",
        "    plt.grid(True)\n",
        "    plt.rcParams[\"figure.figsize\"] = (21,21)\n",
        "    #plt.rcParams[\"figure.figsize\"] = plt.rcParamsDefault[\"figure.figsize\"]\n",
        "\n",
        "    plt.show()"
      ],
      "execution_count": 1,
      "outputs": [
        {
          "output_type": "error",
          "ename": "ModuleNotFoundError",
          "evalue": "ignored",
          "traceback": [
            "\u001b[0;31m---------------------------------------------------------------------------\u001b[0m",
            "\u001b[0;31mModuleNotFoundError\u001b[0m                       Traceback (most recent call last)",
            "\u001b[0;32m<ipython-input-1-5a9330d10e61>\u001b[0m in \u001b[0;36m<module>\u001b[0;34m()\u001b[0m\n\u001b[0;32m----> 1\u001b[0;31m \u001b[0;32mimport\u001b[0m \u001b[0mmysql\u001b[0m\u001b[0;34m.\u001b[0m\u001b[0mconnector\u001b[0m \u001b[0;32mas\u001b[0m \u001b[0mmysql\u001b[0m\u001b[0;34m\u001b[0m\u001b[0;34m\u001b[0m\u001b[0m\n\u001b[0m\u001b[1;32m      2\u001b[0m \u001b[0;32mimport\u001b[0m \u001b[0mmatplotlib\u001b[0m\u001b[0;34m.\u001b[0m\u001b[0mpyplot\u001b[0m \u001b[0;32mas\u001b[0m \u001b[0mplt\u001b[0m\u001b[0;34m\u001b[0m\u001b[0;34m\u001b[0m\u001b[0m\n\u001b[1;32m      3\u001b[0m \u001b[0;34m\u001b[0m\u001b[0m\n\u001b[1;32m      4\u001b[0m \u001b[0;32mif\u001b[0m \u001b[0m__name__\u001b[0m \u001b[0;34m==\u001b[0m \u001b[0;34m\"__main__\"\u001b[0m\u001b[0;34m:\u001b[0m\u001b[0;34m\u001b[0m\u001b[0;34m\u001b[0m\u001b[0m\n\u001b[1;32m      5\u001b[0m     \u001b[0mConexion\u001b[0m \u001b[0;34m=\u001b[0m \u001b[0mmysql\u001b[0m\u001b[0;34m.\u001b[0m\u001b[0mconnect\u001b[0m\u001b[0;34m(\u001b[0m\u001b[0mhost\u001b[0m\u001b[0;34m=\u001b[0m\u001b[0;34m'db'\u001b[0m\u001b[0;34m,\u001b[0m \u001b[0muser\u001b[0m\u001b[0;34m=\u001b[0m\u001b[0;34m'user'\u001b[0m\u001b[0;34m,\u001b[0m \u001b[0mpasswd\u001b[0m\u001b[0;34m=\u001b[0m\u001b[0;34m'password'\u001b[0m\u001b[0;34m,\u001b[0m\u001b[0mdb\u001b[0m\u001b[0;34m=\u001b[0m\u001b[0;34m'universidad'\u001b[0m\u001b[0;34m)\u001b[0m\u001b[0;34m\u001b[0m\u001b[0;34m\u001b[0m\u001b[0m\n",
            "\u001b[0;31mModuleNotFoundError\u001b[0m: No module named 'mysql'",
            "",
            "\u001b[0;31m---------------------------------------------------------------------------\u001b[0;32m\nNOTE: If your import is failing due to a missing package, you can\nmanually install dependencies using either !pip or !apt.\n\nTo view examples of installing some common dependencies, click the\n\"Open Examples\" button below.\n\u001b[0;31m---------------------------------------------------------------------------\u001b[0m\n"
          ]
        }
      ]
    },
    {
      "cell_type": "code",
      "metadata": {
        "id": "EzPoQDY01CT3"
      },
      "source": [
        ""
      ],
      "execution_count": null,
      "outputs": []
    }
  ]
}